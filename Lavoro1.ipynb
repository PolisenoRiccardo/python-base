{
  "nbformat": 4,
  "nbformat_minor": 0,
  "metadata": {
    "colab": {
      "provenance": [],
      "collapsed_sections": [],
      "authorship_tag": "ABX9TyPZj7wdmttzv1d8dOWodAbk",
      "include_colab_link": true
    },
    "kernelspec": {
      "name": "python3",
      "display_name": "Python 3"
    },
    "language_info": {
      "name": "python"
    }
  },
  "cells": [
    {
      "cell_type": "markdown",
      "metadata": {
        "id": "view-in-github",
        "colab_type": "text"
      },
      "source": [
        "<a href=\"https://colab.research.google.com/github/PolisenoRiccardo/python/blob/main/Lavoro1.ipynb\" target=\"_parent\"><img src=\"https://colab.research.google.com/assets/colab-badge.svg\" alt=\"Open In Colab\"/></a>"
      ]
    },
    {
      "cell_type": "code",
      "execution_count": null,
      "metadata": {
        "colab": {
          "base_uri": "https://localhost:8080/"
        },
        "id": "9w2dkeKCBw7b",
        "outputId": "dcbb8fbf-7b0a-4471-d073-d09a07340304"
      },
      "outputs": [
        {
          "output_type": "stream",
          "name": "stdout",
          "text": [
            "Ooos\n"
          ]
        }
      ],
      "source": [
        "print(\"Ooos\")"
      ]
    },
    {
      "cell_type": "code",
      "source": [
        "a=10 \n",
        "b=20\n",
        "c=10.5\n",
        "\n",
        "print(a,b,c)"
      ],
      "metadata": {
        "colab": {
          "base_uri": "https://localhost:8080/"
        },
        "id": "QQ0GQ_f2FerX",
        "outputId": "192e0b54-434b-4f55-b5fe-262a45db80a5"
      },
      "execution_count": null,
      "outputs": [
        {
          "output_type": "stream",
          "name": "stdout",
          "text": [
            "10 20 10.5\n"
          ]
        }
      ]
    },
    {
      "cell_type": "code",
      "source": [
        "somma=a+b\n",
        "sottrazione=a-b\n",
        "moltiplicazione= a*b\n",
        "divisione=a/b\n",
        "print(somma,sottrazione,moltiplicazione,divisione)\n"
      ],
      "metadata": {
        "colab": {
          "base_uri": "https://localhost:8080/"
        },
        "id": "M5PjwRVjF2qu",
        "outputId": "367934ad-5011-4c6b-c6d9-506ac4bcbe70"
      },
      "execution_count": null,
      "outputs": [
        {
          "output_type": "stream",
          "name": "stdout",
          "text": [
            "30 -10 200 0.5\n"
          ]
        }
      ]
    },
    {
      "cell_type": "code",
      "source": [
        "#inserimento dei dati\n",
        "peso = input(\"Inserisci il tuo peso: \")\n",
        "altezza = input(\"Inserisci la tua altezza: \")\n",
        "peso=float(peso)\n",
        "altezza =float(altezza)\n",
        "imc = peso / (altezza*altezza)\n",
        "print(\"Questo è il tuo indice di massa corporea:\", imc)\n",
        "if imc < 18.5:\n",
        "  print(\"Sei stecco\")\n",
        "if imc > 18.5 and imc < 25:\n",
        "  print(\"Sei un figo\")\n",
        "if imc > 25 and imc < 30:\n",
        "  print(\"Sei un attimo grassottello\")\n",
        "if imc > 30 and imc < 40:\n",
        "  print(\"Fra\")      \n",
        "if imc > 40:\n",
        "  print(\"Bro vai da un medico\")\n"
      ],
      "metadata": {
        "colab": {
          "base_uri": "https://localhost:8080/"
        },
        "id": "WYB_HmiSGjuf",
        "outputId": "4e211a10-1724-4953-8384-9500d5d2df53"
      },
      "execution_count": null,
      "outputs": [
        {
          "output_type": "stream",
          "name": "stdout",
          "text": [
            "Inserisci il tuo peso: 90\n",
            "Inserisci la tua altezza: 1.83\n",
            "Questo è il tuo indice di massa corporea: 26.874496103198062\n",
            "Sei una lardoso\n"
          ]
        }
      ]
    },
    {
      "cell_type": "code",
      "source": [
        "#scrivere un programma che calcoli le tasse da pagare\n",
        "#se il reddito è inferiore a 30.000 euro si paga il 15% \n",
        "#se è compreso tra 30.000 e 60.000 euro si paga il 20%\n",
        "#se è superiore a 60.000 euro si paga il 30%\n",
        "reddito = input(\"Inserisci il tuo reddito: \")\n",
        "reddito=int(reddito)\n",
        "if reddito <30000:\n",
        " pagaa= (reddito/100)*15\n",
        "elif reddito >30000 and reddito < 60000:\n",
        " pagaa= (reddito/100)*20\n",
        "elif reddito > 60000:\n",
        " pagaa= (reddito/100)*30\n",
        "print(\"Ti abbiamo appena rubato \", pagaa, \" euro.\")"
      ],
      "metadata": {
        "colab": {
          "base_uri": "https://localhost:8080/"
        },
        "id": "n67BO0RxPLV_",
        "outputId": "fd1a56fb-712c-417c-de11-9be642c34794"
      },
      "execution_count": null,
      "outputs": [
        {
          "output_type": "stream",
          "name": "stdout",
          "text": [
            "Inserisci il tuo reddito: 24000\n",
            "Ti abbiamo appena rubato  3600.0  euro.\n"
          ]
        }
      ]
    },
    {
      "cell_type": "code",
      "source": [
        "#Un negozio vuole incentivare gli acquisti applicando sconti maggiori a chi spende di più, se un cliente spende fino ai 100 euro, gli viene fatto uno scotto del 15%, se spende da 100 a 200 euro, lo sconto satà del 20%, se spende da 200 a 400, lo sconto sarà del 40%, se spende oltre 400, lo sconto sarà del 60%\n",
        "#Scrivere un programma che dato totale dell'acquisto calcoli il costo finale che il cliente deve pagare.\n",
        "#Fare il glossario\n",
        "prezzo = input(\"Quanto devi pagare? \")\n",
        "prezzo=int(prezzo)\n",
        "if prezzo < 100:\n",
        "  sconto = ((prezzo / 100)*15)\n",
        "  costo = prezzo - sconto\n",
        "elif prezzo >= 100 and prezzo < 200:\n",
        "  sconto = ((prezzo / 100)*20)\n",
        "  costo = prezzo - sconto\n",
        "elif prezzo >= 200 and prezzo <= 400:\n",
        "  sconto = ((prezzo / 100)*40)\n",
        "  costo = prezzo - sconto\n",
        "elif prezzo >= 400:\n",
        "  sconto = ((prezzo / 100)*60)\n",
        "  costo = prezzo - sconto\n",
        "print(\"Con il costo di \", prezzo, \" euro, hai diritto ad uno sconto di\", sconto, \" euro, pagando \", costo, \" euro.\")"
      ],
      "metadata": {
        "id": "yACxdylNQrqn",
        "colab": {
          "base_uri": "https://localhost:8080/"
        },
        "outputId": "d2cf899b-4f02-4287-9233-e735a3fd5aa2"
      },
      "execution_count": 5,
      "outputs": [
        {
          "output_type": "stream",
          "name": "stdout",
          "text": [
            "Quanto devi pagare? 40\n",
            "Con il costo di  40  euro, hai diritto ad uno sconto di 6.0  euro, pagando  34.0  euro.\n"
          ]
        }
      ]
    }
  ]
}