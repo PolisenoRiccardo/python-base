{
  "nbformat": 4,
  "nbformat_minor": 0,
  "metadata": {
    "colab": {
      "provenance": []
    },
    "kernelspec": {
      "name": "python3",
      "display_name": "Python 3"
    },
    "language_info": {
      "name": "python"
    }
  },
  "cells": [
    {
      "cell_type": "markdown",
      "source": [
        "1. inserire i dati in strutture dati opportune"
      ],
      "metadata": {
        "id": "AFGhA4D9WhdE"
      }
    },
    {
      "cell_type": "code",
      "execution_count": 1,
      "metadata": {
        "id": "CWzrQDKqSYXC"
      },
      "outputs": [],
      "source": [
        "nomi = [\"Luca\", \"Carlo\", \"Maria\", \"Angela\", \"Stefano\", \"Davide\"]\n",
        "altezze = [1.80, 1.67, 1.75, 1.68, 1.81, 1.78]\n",
        "pesi = [77, 48, 81, 55, 90, 70]"
      ]
    },
    {
      "cell_type": "markdown",
      "source": [
        "2. far inserire all'utente un nome e fornire il peso e l'altezza dello studente inserito"
      ],
      "metadata": {
        "id": "T37WHl0LTPUO"
      }
    },
    {
      "cell_type": "code",
      "source": [
        "nome= input(\"Inserisci il dello studente:\")\n",
        "print(altezze[nomi.index(nome)], \"m\")\n",
        "print(pesi[nomi.index(nome)], \"kg\")"
      ],
      "metadata": {
        "colab": {
          "base_uri": "https://localhost:8080/"
        },
        "id": "uHySDMnpTQYs",
        "outputId": "436b5c61-6cc3-4505-e172-102fc6132835"
      },
      "execution_count": 2,
      "outputs": [
        {
          "output_type": "stream",
          "name": "stdout",
          "text": [
            "Inserisci il dello studente:Luca\n",
            "1.8 m\n",
            "77 kg\n"
          ]
        }
      ]
    },
    {
      "cell_type": "markdown",
      "source": [
        "3. visualizzare il nome dello studente più alto"
      ],
      "metadata": {
        "id": "5-CCtHrnWjH1"
      }
    },
    {
      "cell_type": "code",
      "source": [
        "altezzamax = max(altezze)\n",
        "print(altezzamax)\n",
        "print(nomi[altezze.index(altezzamax)])"
      ],
      "metadata": {
        "colab": {
          "base_uri": "https://localhost:8080/"
        },
        "id": "dgz6FzQCVzXQ",
        "outputId": "37200d11-9ec0-4dd7-bcb8-62964d75bbe2"
      },
      "execution_count": 3,
      "outputs": [
        {
          "output_type": "stream",
          "name": "stdout",
          "text": [
            "1.81\n",
            "Stefano\n"
          ]
        }
      ]
    },
    {
      "cell_type": "markdown",
      "source": [
        "4. visualizzare il nome dello studente più magro"
      ],
      "metadata": {
        "id": "sm5apxoFXINb"
      }
    },
    {
      "cell_type": "code",
      "source": [
        "altezzamin = min(altezze)\n",
        "print(altezzamin)\n",
        "print(nomi[altezze.index(altezzamin)])"
      ],
      "metadata": {
        "colab": {
          "base_uri": "https://localhost:8080/"
        },
        "id": "XpWei5r9XHer",
        "outputId": "e9561f14-4804-47a1-beb2-61d085823cd4"
      },
      "execution_count": 4,
      "outputs": [
        {
          "output_type": "stream",
          "name": "stdout",
          "text": [
            "1.67\n",
            "Carlo\n"
          ]
        }
      ]
    },
    {
      "cell_type": "markdown",
      "source": [
        "5. far inserire il nome di uno studente e calcolare il suo IMC"
      ],
      "metadata": {
        "id": "BdnTHf96YNAt"
      }
    },
    {
      "cell_type": "code",
      "source": [
        "nome= input(\"Inserisci il dello studente:\")\n",
        "imc = pesi[nomi.index(nome)] / (altezze[nomi.index(nome)]*altezze[nomi.index(nome)])\n",
        "print(imc)"
      ],
      "metadata": {
        "colab": {
          "base_uri": "https://localhost:8080/"
        },
        "id": "07snSAWsXwxr",
        "outputId": "1338baa4-55e5-42e9-f575-d29fe37e5346"
      },
      "execution_count": 5,
      "outputs": [
        {
          "output_type": "stream",
          "name": "stdout",
          "text": [
            "Inserisci il dello studente:Luca\n",
            "23.76543209876543\n"
          ]
        }
      ]
    },
    {
      "cell_type": "markdown",
      "source": [
        "6. calcolare il peso medio degli studenti"
      ],
      "metadata": {
        "id": "pswlll1BYN_z"
      }
    },
    {
      "cell_type": "code",
      "source": [
        "from statistics import mean\n",
        "mean(pesi)"
      ],
      "metadata": {
        "colab": {
          "base_uri": "https://localhost:8080/"
        },
        "id": "Q1sqb5_NYP5y",
        "outputId": "ab39b0df-8138-4bbb-8f7c-bd3ecb536306"
      },
      "execution_count": 6,
      "outputs": [
        {
          "output_type": "execute_result",
          "data": {
            "text/plain": [
              "70.16666666666667"
            ]
          },
          "metadata": {},
          "execution_count": 6
        }
      ]
    },
    {
      "cell_type": "markdown",
      "source": [
        "7. visualizzare il numero di studenti"
      ],
      "metadata": {
        "id": "j-A_1pC9YaQT"
      }
    },
    {
      "cell_type": "code",
      "source": [
        "len(nomi)"
      ],
      "metadata": {
        "colab": {
          "base_uri": "https://localhost:8080/"
        },
        "id": "ZBbnS4LcYawb",
        "outputId": "3ed47fa9-2286-4109-bf4b-42a95a44b0e9"
      },
      "execution_count": 7,
      "outputs": [
        {
          "output_type": "execute_result",
          "data": {
            "text/plain": [
              "6"
            ]
          },
          "metadata": {},
          "execution_count": 7
        }
      ]
    },
    {
      "cell_type": "markdown",
      "source": [
        "8. aggiungere lo studente Marco che pesa 76 Kg ed è alto 1.90"
      ],
      "metadata": {
        "id": "_ZwekeYjYgEb"
      }
    },
    {
      "cell_type": "code",
      "source": [
        "nomi.extend([\"Marco\"])\n",
        "pesi.extend([76])\n",
        "altezze.extend([1.90])"
      ],
      "metadata": {
        "id": "rAf5YY8FYhvT"
      },
      "execution_count": 8,
      "outputs": []
    },
    {
      "cell_type": "markdown",
      "source": [
        "9. eliminare le informazioni riguardanti Maria"
      ],
      "metadata": {
        "id": "d7kdFqfXY0BM"
      }
    },
    {
      "cell_type": "code",
      "source": [
        "# rip Maria"
      ],
      "metadata": {
        "id": "JtsjHpv0Y1qL"
      },
      "execution_count": 9,
      "outputs": []
    },
    {
      "cell_type": "code",
      "source": [
        "print(nomi)\n",
        "maria = nomi.index(\"Maria\")\n",
        "print(maria)\n",
        "del nomi[maria]\n",
        "del pesi[maria]\n",
        "del altezze[maria]\n",
        "print(nomi)\n",
        "print(altezze)\n",
        "print(pesi)"
      ],
      "metadata": {
        "colab": {
          "base_uri": "https://localhost:8080/"
        },
        "id": "w_zlWwSzY317",
        "outputId": "ca0098e9-0eba-4677-bf32-7aed5e99de4d"
      },
      "execution_count": 10,
      "outputs": [
        {
          "output_type": "stream",
          "name": "stdout",
          "text": [
            "['Luca', 'Carlo', 'Maria', 'Angela', 'Stefano', 'Davide', 'Marco']\n",
            "2\n",
            "['Luca', 'Carlo', 'Angela', 'Stefano', 'Davide', 'Marco']\n",
            "[1.8, 1.67, 1.68, 1.81, 1.78, 1.9]\n",
            "[77, 48, 55, 90, 70, 76]\n"
          ]
        }
      ]
    }
  ]
}